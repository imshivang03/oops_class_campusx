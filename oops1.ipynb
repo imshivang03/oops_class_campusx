{
 "cells": [
  {
   "cell_type": "markdown",
   "id": "14ce5421",
   "metadata": {},
   "source": [
    "# Introduction to object oriented programming"
   ]
  },
  {
   "cell_type": "code",
   "execution_count": 1,
   "id": "7f81c1b2",
   "metadata": {},
   "outputs": [
    {
     "ename": "AttributeError",
     "evalue": "'list' object has no attribute 'upper'",
     "output_type": "error",
     "traceback": [
      "\u001b[1;31m---------------------------------------------------------------------------\u001b[0m",
      "\u001b[1;31mAttributeError\u001b[0m                            Traceback (most recent call last)",
      "\u001b[1;32m~\\AppData\\Local\\Temp/ipykernel_23880/1775374810.py\u001b[0m in \u001b[0;36m<module>\u001b[1;34m\u001b[0m\n\u001b[0;32m      1\u001b[0m \u001b[0mL\u001b[0m \u001b[1;33m=\u001b[0m \u001b[1;33m[\u001b[0m\u001b[1;36m1\u001b[0m\u001b[1;33m,\u001b[0m\u001b[1;36m2\u001b[0m\u001b[1;33m,\u001b[0m\u001b[1;36m3\u001b[0m\u001b[1;33m]\u001b[0m\u001b[1;33m\u001b[0m\u001b[1;33m\u001b[0m\u001b[0m\n\u001b[0;32m      2\u001b[0m \u001b[1;33m\u001b[0m\u001b[0m\n\u001b[1;32m----> 3\u001b[1;33m \u001b[0mL\u001b[0m\u001b[1;33m.\u001b[0m\u001b[0mupper\u001b[0m\u001b[1;33m(\u001b[0m\u001b[1;33m)\u001b[0m\u001b[1;33m\u001b[0m\u001b[1;33m\u001b[0m\u001b[0m\n\u001b[0m",
      "\u001b[1;31mAttributeError\u001b[0m: 'list' object has no attribute 'upper'"
     ]
    }
   ],
   "source": [
    "L = [1,2,3]\n",
    "\n",
    "L.upper()"
   ]
  },
  {
   "cell_type": "code",
   "execution_count": 2,
   "id": "fa2a8749",
   "metadata": {},
   "outputs": [
    {
     "ename": "AttributeError",
     "evalue": "'str' object has no attribute 'append'",
     "output_type": "error",
     "traceback": [
      "\u001b[1;31m---------------------------------------------------------------------------\u001b[0m",
      "\u001b[1;31mAttributeError\u001b[0m                            Traceback (most recent call last)",
      "\u001b[1;32m~\\AppData\\Local\\Temp/ipykernel_23880/666329863.py\u001b[0m in \u001b[0;36m<module>\u001b[1;34m\u001b[0m\n\u001b[0;32m      1\u001b[0m \u001b[0ms\u001b[0m \u001b[1;33m=\u001b[0m \u001b[1;34m'hello'\u001b[0m\u001b[1;33m\u001b[0m\u001b[1;33m\u001b[0m\u001b[0m\n\u001b[1;32m----> 2\u001b[1;33m \u001b[0ms\u001b[0m\u001b[1;33m.\u001b[0m\u001b[0mappend\u001b[0m\u001b[1;33m(\u001b[0m\u001b[1;34m'x'\u001b[0m\u001b[1;33m)\u001b[0m\u001b[1;33m\u001b[0m\u001b[1;33m\u001b[0m\u001b[0m\n\u001b[0m",
      "\u001b[1;31mAttributeError\u001b[0m: 'str' object has no attribute 'append'"
     ]
    }
   ],
   "source": [
    "s = 'hello'\n",
    "s.append('x')"
   ]
  },
  {
   "cell_type": "code",
   "execution_count": 3,
   "id": "b5137ef1",
   "metadata": {},
   "outputs": [
    {
     "name": "stdout",
     "output_type": "stream",
     "text": [
      "<class 'list'>\n"
     ]
    }
   ],
   "source": [
    "L = [1,2,3]\n",
    "print(type(L))"
   ]
  },
  {
   "cell_type": "code",
   "execution_count": 4,
   "id": "fca7c07b",
   "metadata": {},
   "outputs": [],
   "source": [
    "s = [1,2,3]"
   ]
  },
  {
   "cell_type": "code",
   "execution_count": 5,
   "id": "313661f9",
   "metadata": {},
   "outputs": [],
   "source": [
    "# syntax to create an object\n",
    "\n",
    "# objectname = classname()"
   ]
  },
  {
   "cell_type": "code",
   "execution_count": 6,
   "id": "d4d4efbe",
   "metadata": {},
   "outputs": [],
   "source": [
    "# object literal\n",
    "L = [1,2,3]"
   ]
  },
  {
   "cell_type": "code",
   "execution_count": 7,
   "id": "7af4d41a",
   "metadata": {},
   "outputs": [
    {
     "data": {
      "text/plain": [
       "[]"
      ]
     },
     "execution_count": 7,
     "metadata": {},
     "output_type": "execute_result"
    }
   ],
   "source": [
    "L = list()\n",
    "L"
   ]
  },
  {
   "cell_type": "code",
   "execution_count": 8,
   "id": "25567db0",
   "metadata": {},
   "outputs": [
    {
     "data": {
      "text/plain": [
       "''"
      ]
     },
     "execution_count": 8,
     "metadata": {},
     "output_type": "execute_result"
    }
   ],
   "source": [
    "s = str()\n",
    "s"
   ]
  },
  {
   "cell_type": "code",
   "execution_count": 9,
   "id": "7c913eb4",
   "metadata": {},
   "outputs": [
    {
     "ename": "NameError",
     "evalue": "name 'HelloWorld' is not defined",
     "output_type": "error",
     "traceback": [
      "\u001b[1;31m---------------------------------------------------------------------------\u001b[0m",
      "\u001b[1;31mNameError\u001b[0m                                 Traceback (most recent call last)",
      "\u001b[1;32m~\\AppData\\Local\\Temp/ipykernel_23880/3495280721.py\u001b[0m in \u001b[0;36m<module>\u001b[1;34m\u001b[0m\n\u001b[0;32m      1\u001b[0m \u001b[1;31m# Pascal Case\u001b[0m\u001b[1;33m\u001b[0m\u001b[1;33m\u001b[0m\u001b[0m\n\u001b[0;32m      2\u001b[0m \u001b[1;33m\u001b[0m\u001b[0m\n\u001b[1;32m----> 3\u001b[1;33m \u001b[0mHelloWorld\u001b[0m\u001b[1;33m\u001b[0m\u001b[1;33m\u001b[0m\u001b[0m\n\u001b[0m",
      "\u001b[1;31mNameError\u001b[0m: name 'HelloWorld' is not defined"
     ]
    }
   ],
   "source": [
    "# Pascal Case\n",
    "\n",
    "HelloWorld"
   ]
  },
  {
   "cell_type": "code",
   "execution_count": 10,
   "id": "64e8a2b0",
   "metadata": {},
   "outputs": [],
   "source": [
    "class Atm:\n",
    "    # constructor (special function) -> super power ->\n",
    "    def __init__(self):\n",
    "        self.pin= \"\"\n",
    "        self.balance= 0\n",
    "        self.menu()\n",
    "     \n",
    "    \n",
    "    def menu(self):\n",
    "        user_input= input(\"\"\"\n",
    "        Hi how can I help you?\n",
    "        1. Press 1 to create pin\n",
    "        2. Press 2 to to change pin\n",
    "        3. Press 3 to check balance\n",
    "        4. Press 4 to withdraw\n",
    "        5. Anything else to exit\n",
    "        \"\"\")\n",
    "        \n",
    "        if user_input== \"1\":\n",
    "            self.create_pin()\n",
    "        elif user_input== \"2\":\n",
    "            self.change_pin()\n",
    "        elif user_input== \"3\":\n",
    "            self.check_balance()\n",
    "        elif user_input== \"4\":\n",
    "            self.withdraw()\n",
    "        else:\n",
    "            exit()\n",
    "            \n",
    "        \n",
    "    def create_pin(self):\n",
    "        user_pin= input(\"enter your pin\")\n",
    "        self.pin= user_pin\n",
    "        \n",
    "        user_balance= int(input(\"enter your balance\"))\n",
    "        self.balance= user_balance\n",
    "        \n",
    "        print(\"Pin created successfully\")\n",
    "        self.menu()\n",
    "        \n",
    "        \n",
    "    def change_pin(self):\n",
    "        old_pin= input(\"enter your pin\")\n",
    "        \n",
    "        if old_pin== user_pin:\n",
    "            new_pin= input(\"Enter your new pin\")\n",
    "            self.pin= new_pin\n",
    "            print(\"pin has been changed successfully\")\n",
    "            self.menu()\n",
    "        else:\n",
    "            print(\"You have entered a wrong pin.. retry!\")\n",
    "            self.menu()\n",
    "            \n",
    "    def check_balance(self):\n",
    "        user_pin= input(\"enter your pin\")\n",
    "        \n",
    "        if user.pin== self_pin:\n",
    "            print(\"your balance is\", self.balance)\n",
    "        else:\n",
    "            print(\"you have entered a wrong pin! retry\")\n",
    "            self.menu()\n",
    "            \n",
    "    def withdraw(self):\n",
    "        user_pin= input(\"Enter your pin\")\n",
    "        \n",
    "        if user_pin== self.pin:\n",
    "            amount= int(input(\"enter the amount\"))\n",
    "            if amount <= self.balance:\n",
    "                self.balance= self.balance- amount\n",
    "                print(\"withdrawl successfull, balance left:\", self.balance)\n",
    "            else:\n",
    "                print(\"Insufficient balance!\")\n",
    "        else:\n",
    "            print(\"Please enter the correct pin to withdraw!\")\n",
    "        self.menu()"
   ]
  },
  {
   "cell_type": "code",
   "execution_count": 17,
   "id": "dde3c514",
   "metadata": {},
   "outputs": [
    {
     "name": "stdout",
     "output_type": "stream",
     "text": [
      "\n",
      "        Hi how can I help you?\n",
      "        1. Press 1 to create pin\n",
      "        2. Press 2 to to change pin\n",
      "        3. Press 3 to check balance\n",
      "        4. Press 4 to withdraw\n",
      "        5. Anything else to exit\n",
      "        1\n",
      "enter your pin1234\n",
      "enter your balance80000\n",
      "Pin created successfully\n",
      "\n",
      "        Hi how can I help you?\n",
      "        1. Press 1 to create pin\n",
      "        2. Press 2 to to change pin\n",
      "        3. Press 3 to check balance\n",
      "        4. Press 4 to withdraw\n",
      "        5. Anything else to exit\n",
      "        4\n",
      "Enter your pin1234\n",
      "enter the amount40000\n",
      "withdrawl successfull, balance left: 40000\n",
      "\n",
      "        Hi how can I help you?\n",
      "        1. Press 1 to create pin\n",
      "        2. Press 2 to to change pin\n",
      "        3. Press 3 to check balance\n",
      "        4. Press 4 to withdraw\n",
      "        5. Anything else to exit\n",
      "        5\n"
     ]
    }
   ],
   "source": [
    "obj1= Atm()"
   ]
  },
  {
   "cell_type": "code",
   "execution_count": 11,
   "id": "79354f13",
   "metadata": {},
   "outputs": [],
   "source": [
    "class Atm1:\n",
    "    # constructor (special function) -> super power ->\n",
    "    def __init__(self):\n",
    "        print(id(self))\n",
    "        self.pin= \"\"\n",
    "        self.balance= 0\n",
    "        #self.menu()\n",
    "     \n",
    "    \n",
    "    def menu(self):\n",
    "        user_input= input(\"\"\"\n",
    "        Hi how can I help you?\n",
    "        1. Press 1 to create pin\n",
    "        2. Press 2 to to change pin\n",
    "        3. Press 3 to check balance\n",
    "        4. Press 4 to withdraw\n",
    "        5. Anything else to exit\n",
    "        \"\"\")\n",
    "        \n",
    "        if user_input== \"1\":\n",
    "            self.create_pin()\n",
    "        elif user_input== \"2\":\n",
    "            self.change_pin()\n",
    "        elif user_input== \"3\":\n",
    "            self.check_balance()\n",
    "        elif user_input== \"4\":\n",
    "            self.withdraw()\n",
    "        else:\n",
    "            exit()\n",
    "            \n",
    "        \n",
    "    def create_pin(self):\n",
    "        user_pin= input(\"enter your pin\")\n",
    "        self.pin= user_pin\n",
    "        \n",
    "        user_balance= int(input(\"enter your balance\"))\n",
    "        self.balance= user_balance\n",
    "        \n",
    "        print(\"Pin created successfully\")\n",
    "        self.menu()\n",
    "        \n",
    "        \n",
    "    def change_pin(self):\n",
    "        old_pin= input(\"enter your pin\")\n",
    "        \n",
    "        if old_pin== user_pin:\n",
    "            new_pin= input(\"Enter your new pin\")\n",
    "            self.pin= new_pin\n",
    "            print(\"pin has been changed successfully\")\n",
    "            self.menu()\n",
    "        else:\n",
    "            print(\"You have entered a wrong pin.. retry!\")\n",
    "            self.menu()\n",
    "            \n",
    "    def check_balance(self):\n",
    "        user_pin= input(\"enter your pin\")\n",
    "        \n",
    "        if user.pin== self_pin:\n",
    "            print(\"your balance is\", self.balance)\n",
    "        else:\n",
    "            print(\"you have entered a wrong pin! retry\")\n",
    "            self.menu()\n",
    "            \n",
    "    def withdraw(self):\n",
    "        user_pin= input(\"Enter your pin\")\n",
    "        \n",
    "        if user_pin== self.pin:\n",
    "            amount= int(input(\"enter the amount\"))\n",
    "            if amount <= self.balance:\n",
    "                self.balance= self.balance- amount\n",
    "                print(\"withdrawl successfull, balance left:\", self.balance)\n",
    "            else:\n",
    "                print(\"Insufficient balance!\")\n",
    "        else:\n",
    "            print(\"Please enter the correct pin to withdraw!\")\n",
    "        self.menu()"
   ]
  },
  {
   "cell_type": "code",
   "execution_count": 12,
   "id": "b4ad4794",
   "metadata": {},
   "outputs": [
    {
     "name": "stdout",
     "output_type": "stream",
     "text": [
      "3103532002608\n"
     ]
    }
   ],
   "source": [
    "obj= Atm1()"
   ]
  },
  {
   "cell_type": "code",
   "execution_count": 14,
   "id": "a3fa1710",
   "metadata": {},
   "outputs": [
    {
     "data": {
      "text/plain": [
       "3103532002608"
      ]
     },
     "execution_count": 14,
     "metadata": {},
     "output_type": "execute_result"
    }
   ],
   "source": [
    "id(obj)"
   ]
  },
  {
   "cell_type": "code",
   "execution_count": 15,
   "id": "b73ee694",
   "metadata": {},
   "outputs": [
    {
     "name": "stdout",
     "output_type": "stream",
     "text": [
      "3103532003280\n"
     ]
    }
   ],
   "source": [
    "obj2= Atm1()"
   ]
  },
  {
   "cell_type": "code",
   "execution_count": 16,
   "id": "2921329a",
   "metadata": {},
   "outputs": [
    {
     "data": {
      "text/plain": [
       "3103532003280"
      ]
     },
     "execution_count": 16,
     "metadata": {},
     "output_type": "execute_result"
    }
   ],
   "source": [
    "id(obj2)"
   ]
  },
  {
   "cell_type": "markdown",
   "id": "103e72a5",
   "metadata": {},
   "source": [
    "### Difference between method and function"
   ]
  },
  {
   "cell_type": "code",
   "execution_count": null,
   "id": "e3c4aba7",
   "metadata": {},
   "outputs": [],
   "source": [
    "L = [1,2,3]\n",
    "len(L) # function ->bcos it is outside the list class\n",
    "L.append()# method -> bcos it is inside the list class"
   ]
  },
  {
   "cell_type": "code",
   "execution_count": 19,
   "id": "683ac201",
   "metadata": {},
   "outputs": [
    {
     "name": "stdout",
     "output_type": "stream",
     "text": [
      "hello\n"
     ]
    }
   ],
   "source": [
    "class Temp:\n",
    "    def __init__(self):\n",
    "        print('hello')\n",
    "\n",
    "obj = Temp()"
   ]
  },
  {
   "cell_type": "code",
   "execution_count": 20,
   "id": "0d059797",
   "metadata": {},
   "outputs": [
    {
     "data": {
      "text/plain": [
       "0.375"
      ]
     },
     "execution_count": 20,
     "metadata": {},
     "output_type": "execute_result"
    }
   ],
   "source": [
    "3/4*1/2"
   ]
  },
  {
   "cell_type": "code",
   "execution_count": 27,
   "id": "21ea4e4d",
   "metadata": {},
   "outputs": [],
   "source": [
    "class Fraction:\n",
    "    \n",
    "    # parameterized constructor\n",
    "    def __init__(self,x,y):\n",
    "        self.num = x\n",
    "        self.den = y\n",
    "\n",
    "    def __str__(self):\n",
    "        return '{}/{}'.format(self.num,self.den)\n",
    "\n",
    "    def __add__(self,other):\n",
    "        new_num = self.num*other.den + other.num*self.den\n",
    "        new_den = self.den*other.den\n",
    "\n",
    "        return '{}/{}'.format(new_num,new_den)\n",
    "\n",
    "    def __sub__(self,other):\n",
    "        new_num = self.num*other.den - other.num*self.den\n",
    "        new_den = self.den*other.den\n",
    "\n",
    "        return '{}/{}'.format(new_num,new_den)\n",
    "\n",
    "    def __mul__(self,other):\n",
    "        new_num = self.num*other.num\n",
    "        new_den = self.den*other.den\n",
    "\n",
    "        return '{}/{}'.format(new_num,new_den)\n",
    "\n",
    "    def __truediv__(self,other):\n",
    "        new_num = self.num*other.den\n",
    "        new_den = self.den*other.num\n",
    "\n",
    "        return '{}/{}'.format(new_num,new_den)\n",
    "\n",
    "    def convert_to_decimal(self):\n",
    "        return self.num/self.den"
   ]
  },
  {
   "cell_type": "code",
   "execution_count": 28,
   "id": "632b9287",
   "metadata": {},
   "outputs": [],
   "source": [
    "fr1 = Fraction(3,4)\n",
    "fr2 = Fraction(1,2)"
   ]
  },
  {
   "cell_type": "code",
   "execution_count": 29,
   "id": "ae5eba32",
   "metadata": {},
   "outputs": [
    {
     "data": {
      "text/plain": [
       "0.75"
      ]
     },
     "execution_count": 29,
     "metadata": {},
     "output_type": "execute_result"
    }
   ],
   "source": [
    "fr1.convert_to_decimal()\n",
    "#3/4"
   ]
  },
  {
   "cell_type": "code",
   "execution_count": 30,
   "id": "e0dcdae2",
   "metadata": {},
   "outputs": [
    {
     "name": "stdout",
     "output_type": "stream",
     "text": [
      "10/8\n",
      "2/8\n",
      "3/8\n",
      "6/4\n"
     ]
    }
   ],
   "source": [
    "print(fr1 + fr2)\n",
    "print(fr1 - fr2)\n",
    "print(fr1 * fr2)\n",
    "print(fr1 / fr2)"
   ]
  },
  {
   "cell_type": "code",
   "execution_count": 32,
   "id": "bb438b05",
   "metadata": {},
   "outputs": [
    {
     "name": "stdout",
     "output_type": "stream",
     "text": [
      "2/8\n"
     ]
    }
   ],
   "source": [
    "# it won't work without def __sub__() function\n",
    "\n",
    "print(fr1 - fr2)"
   ]
  },
  {
   "cell_type": "code",
   "execution_count": 31,
   "id": "228e9bb4",
   "metadata": {},
   "outputs": [
    {
     "ename": "TypeError",
     "evalue": "unsupported operand type(s) for +: 'set' and 'set'",
     "output_type": "error",
     "traceback": [
      "\u001b[1;31m---------------------------------------------------------------------------\u001b[0m",
      "\u001b[1;31mTypeError\u001b[0m                                 Traceback (most recent call last)",
      "\u001b[1;32m~\\AppData\\Local\\Temp/ipykernel_23880/3046025221.py\u001b[0m in \u001b[0;36m<module>\u001b[1;34m\u001b[0m\n\u001b[0;32m      2\u001b[0m \u001b[0ms2\u001b[0m\u001b[1;33m=\u001b[0m\u001b[1;33m{\u001b[0m\u001b[1;36m3\u001b[0m\u001b[1;33m,\u001b[0m\u001b[1;36m4\u001b[0m\u001b[1;33m,\u001b[0m\u001b[1;36m5\u001b[0m\u001b[1;33m}\u001b[0m\u001b[1;33m\u001b[0m\u001b[1;33m\u001b[0m\u001b[0m\n\u001b[0;32m      3\u001b[0m \u001b[1;33m\u001b[0m\u001b[0m\n\u001b[1;32m----> 4\u001b[1;33m \u001b[0ms1\u001b[0m \u001b[1;33m+\u001b[0m \u001b[0ms2\u001b[0m\u001b[1;33m\u001b[0m\u001b[1;33m\u001b[0m\u001b[0m\n\u001b[0m",
      "\u001b[1;31mTypeError\u001b[0m: unsupported operand type(s) for +: 'set' and 'set'"
     ]
    }
   ],
   "source": [
    "s1={1,2,3}\n",
    "s2={3,4,5}\n",
    "\n",
    "s1 + s2"
   ]
  }
 ],
 "metadata": {
  "kernelspec": {
   "display_name": "Python 3 (ipykernel)",
   "language": "python",
   "name": "python3"
  },
  "language_info": {
   "codemirror_mode": {
    "name": "ipython",
    "version": 3
   },
   "file_extension": ".py",
   "mimetype": "text/x-python",
   "name": "python",
   "nbconvert_exporter": "python",
   "pygments_lexer": "ipython3",
   "version": "3.9.7"
  }
 },
 "nbformat": 4,
 "nbformat_minor": 5
}
